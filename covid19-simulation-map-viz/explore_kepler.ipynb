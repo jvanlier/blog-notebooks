{
 "cells": [
  {
   "cell_type": "markdown",
   "metadata": {},
   "source": [
    "Check KeplerGL"
   ]
  },
  {
   "cell_type": "code",
   "execution_count": 1,
   "metadata": {},
   "outputs": [],
   "source": [
    "from pathlib import Path\n",
    "\n",
    "from keplergl import KeplerGl\n",
    "import numpy as np\n",
    "import pandas as pd\n",
    "import geopandas as gpd\n",
    "import matplotlib.pyplot as plt\n",
    "from numpy.random import poisson\n",
    "%matplotlib inline"
   ]
  },
  {
   "cell_type": "markdown",
   "metadata": {},
   "source": [
    "### Population data:"
   ]
  },
  {
   "cell_type": "code",
   "execution_count": 2,
   "metadata": {},
   "outputs": [],
   "source": [
    "dfp = (\n",
    "    gpd\n",
    "    .read_file(\"./data/transformed/population.shp\")\n",
    "    .assign(centroid=lambda df: df[\"geometry\"].map(lambda x: x.centroid))\n",
    ")"
   ]
  },
  {
   "cell_type": "code",
   "execution_count": 3,
   "metadata": {},
   "outputs": [
    {
     "data": {
      "text/html": [
       "<div>\n",
       "<style scoped>\n",
       "    .dataframe tbody tr th:only-of-type {\n",
       "        vertical-align: middle;\n",
       "    }\n",
       "\n",
       "    .dataframe tbody tr th {\n",
       "        vertical-align: top;\n",
       "    }\n",
       "\n",
       "    .dataframe thead th {\n",
       "        text-align: right;\n",
       "    }\n",
       "</style>\n",
       "<table border=\"1\" class=\"dataframe\">\n",
       "  <thead>\n",
       "    <tr style=\"text-align: right;\">\n",
       "      <th></th>\n",
       "      <th>hood</th>\n",
       "      <th>muni</th>\n",
       "      <th>pop</th>\n",
       "      <th>geometry</th>\n",
       "      <th>centroid</th>\n",
       "    </tr>\n",
       "  </thead>\n",
       "  <tbody>\n",
       "    <tr>\n",
       "      <th>0</th>\n",
       "      <td>Wijk 02 Belgisch Park</td>\n",
       "      <td>'s-Gravenhage</td>\n",
       "      <td>7955</td>\n",
       "      <td>POLYGON ((4.28747 52.11845, 4.28772 52.11856, ...</td>\n",
       "      <td>POINT (4.29201 52.11208)</td>\n",
       "    </tr>\n",
       "    <tr>\n",
       "      <th>1</th>\n",
       "      <td>Wijk 03 Westbroekpark en Duttendel</td>\n",
       "      <td>'s-Gravenhage</td>\n",
       "      <td>1855</td>\n",
       "      <td>POLYGON ((4.30000 52.09899, 4.29965 52.09913, ...</td>\n",
       "      <td>POINT (4.30321 52.10403)</td>\n",
       "    </tr>\n",
       "    <tr>\n",
       "      <th>2</th>\n",
       "      <td>Wijk 04 Benoordenhout</td>\n",
       "      <td>'s-Gravenhage</td>\n",
       "      <td>13320</td>\n",
       "      <td>POLYGON ((4.32739 52.09566, 4.32748 52.09557, ...</td>\n",
       "      <td>POINT (4.32134 52.09741)</td>\n",
       "    </tr>\n",
       "    <tr>\n",
       "      <th>3</th>\n",
       "      <td>Wijk 05 Archipelbuurt</td>\n",
       "      <td>'s-Gravenhage</td>\n",
       "      <td>5720</td>\n",
       "      <td>POLYGON ((4.29996 52.09864, 4.30039 52.09855, ...</td>\n",
       "      <td>POINT (4.30271 52.09184)</td>\n",
       "    </tr>\n",
       "    <tr>\n",
       "      <th>4</th>\n",
       "      <td>Wijk 06 Van Stolkpark en Scheveningse Bosjes</td>\n",
       "      <td>'s-Gravenhage</td>\n",
       "      <td>775</td>\n",
       "      <td>POLYGON ((4.28612 52.10404, 4.28637 52.10415, ...</td>\n",
       "      <td>POINT (4.29148 52.09752)</td>\n",
       "    </tr>\n",
       "  </tbody>\n",
       "</table>\n",
       "</div>"
      ],
      "text/plain": [
       "                                           hood           muni    pop  \\\n",
       "0                         Wijk 02 Belgisch Park  's-Gravenhage   7955   \n",
       "1            Wijk 03 Westbroekpark en Duttendel  's-Gravenhage   1855   \n",
       "2                         Wijk 04 Benoordenhout  's-Gravenhage  13320   \n",
       "3                         Wijk 05 Archipelbuurt  's-Gravenhage   5720   \n",
       "4  Wijk 06 Van Stolkpark en Scheveningse Bosjes  's-Gravenhage    775   \n",
       "\n",
       "                                            geometry                  centroid  \n",
       "0  POLYGON ((4.28747 52.11845, 4.28772 52.11856, ...  POINT (4.29201 52.11208)  \n",
       "1  POLYGON ((4.30000 52.09899, 4.29965 52.09913, ...  POINT (4.30321 52.10403)  \n",
       "2  POLYGON ((4.32739 52.09566, 4.32748 52.09557, ...  POINT (4.32134 52.09741)  \n",
       "3  POLYGON ((4.29996 52.09864, 4.30039 52.09855, ...  POINT (4.30271 52.09184)  \n",
       "4  POLYGON ((4.28612 52.10404, 4.28637 52.10415, ...  POINT (4.29148 52.09752)  "
      ]
     },
     "execution_count": 3,
     "metadata": {},
     "output_type": "execute_result"
    }
   ],
   "source": [
    "dfp.head()"
   ]
  },
  {
   "cell_type": "markdown",
   "metadata": {},
   "source": [
    "## Try kepler"
   ]
  },
  {
   "cell_type": "code",
   "execution_count": 7,
   "metadata": {},
   "outputs": [],
   "source": [
    "dfpk = (dfp\n",
    "        .assign(lon=lambda df: df.centroid.map(lambda c: c.x))\n",
    "        .assign(lat=lambda df: df.centroid.map(lambda c: c.y))\n",
    "        .assign(inf=0)\n",
    "        .assign(inf_perc=0)\n",
    "        [[\"hood\", \"lat\", \"lon\", \"pop\", \"inf\", \"inf_perc\",]]\n",
    "       ).reset_index(drop=True)"
   ]
  },
  {
   "cell_type": "code",
   "execution_count": 8,
   "metadata": {},
   "outputs": [],
   "source": [
    "MAP_COLS = [\"lat\", \"lon\", \"pop\", \"inf\", \"inf_perc\"]"
   ]
  },
  {
   "cell_type": "code",
   "execution_count": 9,
   "metadata": {},
   "outputs": [],
   "source": [
    "config = {\n",
    "  \"version\": \"v1\",\n",
    "  \"config\": {\n",
    "    \"visState\": {\n",
    "      \"filters\": [],\n",
    "      \"layers\": [\n",
    "        {\n",
    "          \"id\": \"mzprg2\",\n",
    "          \"type\": \"hexagon\",\n",
    "          \"config\": {\n",
    "            \"dataId\": \"infections\",\n",
    "            \"label\": \"Point\",\n",
    "            \"color\": [\n",
    "              119,\n",
    "              110,\n",
    "              87\n",
    "            ],\n",
    "            \"columns\": {\n",
    "              \"lat\": \"lat\",\n",
    "              \"lng\": \"lon\"\n",
    "            },\n",
    "            \"isVisible\": True,\n",
    "            \"visConfig\": {\n",
    "              \"opacity\": 1,\n",
    "              \"worldUnitSize\": 5,\n",
    "              \"resolution\": 8,\n",
    "              \"colorRange\": {\n",
    "                \"name\": \"Purple Blue Yellow\",\n",
    "                \"type\": \"sequential\",\n",
    "                \"category\": \"Uber\",\n",
    "                \"colors\": [\n",
    "                  \"#2B1E3E\",\n",
    "                  \"#383C65\",\n",
    "                  \"#3E5F7E\",\n",
    "                  \"#49838A\",\n",
    "                  \"#5EA28D\",\n",
    "                  \"#82BB92\",\n",
    "                  \"#AECEA1\",\n",
    "                  \"#D6DEBF\"\n",
    "                ],\n",
    "                \"reversed\": False\n",
    "              },\n",
    "              \"coverage\": 1,\n",
    "              \"sizeRange\": [\n",
    "                0,\n",
    "                100\n",
    "              ],\n",
    "              \"percentile\": [\n",
    "                0,\n",
    "                99.94\n",
    "              ],\n",
    "              \"elevationPercentile\": [\n",
    "                0,\n",
    "                100\n",
    "              ],\n",
    "              \"elevationScale\": 20,\n",
    "              \"hi-precision\": False,\n",
    "              \"colorAggregation\": \"sum\",\n",
    "              \"sizeAggregation\": \"sum\",\n",
    "              \"enable3d\": True\n",
    "            }\n",
    "          },\n",
    "          \"visualChannels\": {\n",
    "            \"colorField\": {\n",
    "              \"name\": \"inf\",\n",
    "              \"type\": \"integer\"\n",
    "            },\n",
    "            \"colorScale\": \"quantize\",\n",
    "            \"sizeField\": {\n",
    "              \"name\": \"inf\",\n",
    "              \"type\": \"integer\"\n",
    "            },\n",
    "            \"sizeScale\": \"linear\"\n",
    "          }\n",
    "        }\n",
    "      ],\n",
    "      \"interactionConfig\": {\n",
    "        \"tooltip\": {\n",
    "          \"fieldsToShow\": {\n",
    "            \"infections\": [\n",
    "              \"inf_ratio\"\n",
    "            ]\n",
    "          },\n",
    "          \"enabled\": True\n",
    "        },\n",
    "        \"brush\": {\n",
    "          \"size\": 0.5,\n",
    "          \"enabled\": False\n",
    "        }\n",
    "      },\n",
    "      \"layerBlending\": \"normal\",\n",
    "      \"splitMaps\": []\n",
    "    },\n",
    "    \"mapState\": {\n",
    "      \"bearing\": -0.6067415730337057,\n",
    "      'pitch': 37.374216241015446,\n",
    "      \"dragRotate\": True,\n",
    "      'latitude': 52.15502, \n",
    "      'longitude': 5.41301,\n",
    "      \"zoom\": 7,\n",
    "      \"isSplit\": False\n",
    "    },\n",
    "    \"mapStyle\": {\n",
    "      \"styleType\": \"muted_night\",\n",
    "      \"topLayerGroups\": {},\n",
    "      \"visibleLayerGroups\": {\n",
    "        \"label\": False,\n",
    "        \"road\": False,\n",
    "        \"border\": False,\n",
    "        \"building\": True,\n",
    "        \"water\": True,\n",
    "        \"land\": True\n",
    "      }\n",
    "    }\n",
    "  }\n",
    "}"
   ]
  },
  {
   "cell_type": "code",
   "execution_count": 14,
   "metadata": {
    "scrolled": true
   },
   "outputs": [
    {
     "name": "stdout",
     "output_type": "stream",
     "text": [
      "User Guide: https://github.com/keplergl/kepler.gl/blob/master/docs/keplergl-jupyter/user-guide.md\n"
     ]
    }
   ],
   "source": [
    "nl_map = KeplerGl(height=800, data={\"infections\": dfpk[MAP_COLS]},)\n",
    "#                   config=config)"
   ]
  },
  {
   "cell_type": "code",
   "execution_count": 15,
   "metadata": {
    "scrolled": false
   },
   "outputs": [
    {
     "data": {
      "application/vnd.jupyter.widget-view+json": {
       "model_id": "8c95ff394e9848f982930a6be51c3c60",
       "version_major": 2,
       "version_minor": 0
      },
      "text/plain": [
       "KeplerGl(data={'infections':             lat       lon    pop  inf  inf_perc\n",
       "0     52.112078  4.292010   7955 …"
      ]
     },
     "metadata": {},
     "output_type": "display_data"
    }
   ],
   "source": [
    "nl_map"
   ]
  },
  {
   "cell_type": "code",
   "execution_count": 16,
   "metadata": {},
   "outputs": [
    {
     "data": {
      "text/plain": [
       "{'version': 'v1',\n",
       " 'config': {'visState': {'filters': [],\n",
       "   'layers': [{'id': 'j83czq8',\n",
       "     'type': 'hexagon',\n",
       "     'config': {'dataId': 'infections',\n",
       "      'label': 'new layer',\n",
       "      'color': [255, 203, 153],\n",
       "      'columns': {'lng': 'lon', 'lat': 'lat'},\n",
       "      'isVisible': True,\n",
       "      'visConfig': {'opacity': 0.8,\n",
       "       'resolution': 8,\n",
       "       'colorRange': {'name': 'Global Warming',\n",
       "        'type': 'sequential',\n",
       "        'category': 'Uber',\n",
       "        'colors': ['#5A1846',\n",
       "         '#900C3F',\n",
       "         '#C70039',\n",
       "         '#E3611C',\n",
       "         '#F1920E',\n",
       "         '#FFC300']},\n",
       "       'coverage': 1,\n",
       "       'sizeRange': [0, 500],\n",
       "       'percentile': [0, 100],\n",
       "       'elevationPercentile': [0, 100],\n",
       "       'elevationScale': 5,\n",
       "       'enable3d': False,\n",
       "       'colorAggregation': 'count',\n",
       "       'sizeAggregation': 'count',\n",
       "       'worldUnitSize': 1},\n",
       "      'textLabel': [{'field': None,\n",
       "        'color': [255, 255, 255],\n",
       "        'size': 18,\n",
       "        'offset': [0, 0],\n",
       "        'anchor': 'start',\n",
       "        'alignment': 'center'}]},\n",
       "     'visualChannels': {'colorField': None,\n",
       "      'colorScale': 'quantile',\n",
       "      'sizeField': None,\n",
       "      'sizeScale': 'linear'}}],\n",
       "   'interactionConfig': {'tooltip': {'fieldsToShow': {'infections': ['pop',\n",
       "       'inf',\n",
       "       'inf_perc']},\n",
       "     'enabled': True},\n",
       "    'brush': {'size': 0.5, 'enabled': False}},\n",
       "   'layerBlending': 'normal',\n",
       "   'splitMaps': [],\n",
       "   'animationConfig': {'currentTime': None, 'speed': 1}},\n",
       "  'mapState': {'bearing': 0,\n",
       "   'dragRotate': False,\n",
       "   'latitude': 52.10116616460172,\n",
       "   'longitude': 5.302813263708116,\n",
       "   'pitch': 0,\n",
       "   'zoom': 7,\n",
       "   'isSplit': False},\n",
       "  'mapStyle': {'styleType': 'dark',\n",
       "   'topLayerGroups': {},\n",
       "   'visibleLayerGroups': {'label': True,\n",
       "    'road': True,\n",
       "    'border': False,\n",
       "    'building': True,\n",
       "    'water': True,\n",
       "    'land': True,\n",
       "    '3d building': False},\n",
       "   'threeDBuildingColor': [9.665468314072013,\n",
       "    17.18305478057247,\n",
       "    31.1442867897876],\n",
       "   'mapStyles': {}}}}"
      ]
     },
     "execution_count": 16,
     "metadata": {},
     "output_type": "execute_result"
    }
   ],
   "source": [
    "nl_map.config"
   ]
  },
  {
   "cell_type": "code",
   "execution_count": 12,
   "metadata": {},
   "outputs": [],
   "source": [
    "# RESET:\n",
    "nl_map.add_data(dfpk[MAP_COLS], name=\"infections\")"
   ]
  },
  {
   "cell_type": "code",
   "execution_count": 13,
   "metadata": {},
   "outputs": [
    {
     "ename": "NameError",
     "evalue": "name 'random' is not defined",
     "output_type": "error",
     "traceback": [
      "\u001b[0;31m---------------------------------------------------------------------------\u001b[0m",
      "\u001b[0;31mNameError\u001b[0m                                 Traceback (most recent call last)",
      "\u001b[0;32m<ipython-input-13-2b06e45f70bc>\u001b[0m in \u001b[0;36m<module>\u001b[0;34m\u001b[0m\n\u001b[1;32m      4\u001b[0m \u001b[0;34m\u001b[0m\u001b[0m\n\u001b[1;32m      5\u001b[0m \u001b[0;32mfor\u001b[0m \u001b[0m_\u001b[0m \u001b[0;32min\u001b[0m \u001b[0mrange\u001b[0m\u001b[0;34m(\u001b[0m\u001b[0;36m50\u001b[0m\u001b[0;34m)\u001b[0m\u001b[0;34m:\u001b[0m\u001b[0;34m\u001b[0m\u001b[0;34m\u001b[0m\u001b[0m\n\u001b[0;32m----> 6\u001b[0;31m     \u001b[0mrnd_idxes\u001b[0m \u001b[0;34m=\u001b[0m \u001b[0mrandom\u001b[0m\u001b[0;34m.\u001b[0m\u001b[0msample\u001b[0m\u001b[0;34m(\u001b[0m\u001b[0mrange\u001b[0m\u001b[0;34m(\u001b[0m\u001b[0;36m0\u001b[0m\u001b[0;34m,\u001b[0m \u001b[0mn\u001b[0m \u001b[0;34m-\u001b[0m \u001b[0;36m1\u001b[0m\u001b[0;34m)\u001b[0m\u001b[0;34m,\u001b[0m \u001b[0mk\u001b[0m\u001b[0;34m=\u001b[0m\u001b[0mk\u001b[0m\u001b[0;34m)\u001b[0m\u001b[0;34m\u001b[0m\u001b[0;34m\u001b[0m\u001b[0m\n\u001b[0m\u001b[1;32m      7\u001b[0m \u001b[0;34m\u001b[0m\u001b[0m\n\u001b[1;32m      8\u001b[0m     \u001b[0mrnd\u001b[0m \u001b[0;34m=\u001b[0m \u001b[0mdfpk_inf\u001b[0m\u001b[0;34m.\u001b[0m\u001b[0miloc\u001b[0m\u001b[0;34m[\u001b[0m\u001b[0mrnd_idxes\u001b[0m\u001b[0;34m]\u001b[0m\u001b[0;34m.\u001b[0m\u001b[0massign\u001b[0m\u001b[0;34m(\u001b[0m\u001b[0minf\u001b[0m\u001b[0;34m=\u001b[0m\u001b[0;32mlambda\u001b[0m \u001b[0mdf\u001b[0m\u001b[0;34m:\u001b[0m \u001b[0mdf\u001b[0m\u001b[0;34m[\u001b[0m\u001b[0;34m\"inf\"\u001b[0m\u001b[0;34m]\u001b[0m \u001b[0;34m+\u001b[0m \u001b[0mpoisson\u001b[0m\u001b[0;34m(\u001b[0m\u001b[0mlam\u001b[0m\u001b[0;34m=\u001b[0m\u001b[0;36m300\u001b[0m\u001b[0;34m,\u001b[0m \u001b[0msize\u001b[0m\u001b[0;34m=\u001b[0m\u001b[0mk\u001b[0m\u001b[0;34m)\u001b[0m\u001b[0;34m)\u001b[0m\u001b[0;34m\u001b[0m\u001b[0;34m\u001b[0m\u001b[0m\n",
      "\u001b[0;31mNameError\u001b[0m: name 'random' is not defined"
     ]
    }
   ],
   "source": [
    "dfpk_inf = dfpk.copy()\n",
    "k = 100\n",
    "n = len(dfpk)\n",
    "\n",
    "for _ in range(50):\n",
    "    rnd_idxes = random.sample(range(0, n - 1), k=k)\n",
    "\n",
    "    rnd = dfpk_inf.iloc[rnd_idxes].assign(inf=lambda df: df[\"inf\"] + poisson(lam=300, size=k))\n",
    "    other = dfpk_inf.iloc[list(set(dfpk_inf.index) - set(rnd_idxes))]\n",
    "    \n",
    "    dfpk_inf = pd.concat((\n",
    "        rnd,\n",
    "        other\n",
    "    )).sort_values(by=[\"lon\", \"lat\"])\n",
    "    \n",
    "    dfpk_inf[\"inf_perc\"] = (dfpk_inf[\"inf\"] / dfpk_inf[\"pop\"] * 100).clip(0, 100).round(0)\n",
    "    \n",
    "    nl_map.add_data(dfpk_inf[MAP_COLS], name=\"infections\")\n",
    "    sleep(.1)"
   ]
  },
  {
   "cell_type": "code",
   "execution_count": null,
   "metadata": {},
   "outputs": [],
   "source": [
    "dfpk_inf[\"inf\"].hist(bins=100)"
   ]
  },
  {
   "cell_type": "code",
   "execution_count": null,
   "metadata": {
    "scrolled": true
   },
   "outputs": [],
   "source": [
    "dfpk_inf[\"inf_perc\"].hist(bins=100)"
   ]
  },
  {
   "cell_type": "code",
   "execution_count": null,
   "metadata": {
    "scrolled": true
   },
   "outputs": [],
   "source": [
    "dfpk_inf[\"inf_perc\"].value_counts()"
   ]
  },
  {
   "cell_type": "code",
   "execution_count": null,
   "metadata": {},
   "outputs": [],
   "source": []
  }
 ],
 "metadata": {
  "kernelspec": {
   "display_name": "Python 3",
   "language": "python",
   "name": "python3"
  },
  "language_info": {
   "codemirror_mode": {
    "name": "ipython",
    "version": 3
   },
   "file_extension": ".py",
   "mimetype": "text/x-python",
   "name": "python",
   "nbconvert_exporter": "python",
   "pygments_lexer": "ipython3",
   "version": "3.8.2"
  }
 },
 "nbformat": 4,
 "nbformat_minor": 4
}
