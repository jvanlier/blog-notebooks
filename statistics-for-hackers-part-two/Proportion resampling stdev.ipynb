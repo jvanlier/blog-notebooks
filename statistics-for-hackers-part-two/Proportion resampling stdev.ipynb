{
 "cells": [
  {
   "cell_type": "code",
   "execution_count": 1,
   "metadata": {
    "collapsed": true
   },
   "outputs": [],
   "source": [
    "import numpy as np\n",
    "\n",
    "n_bootstrap_samples = 1000"
   ]
  },
  {
   "cell_type": "markdown",
   "metadata": {},
   "source": [
    "## Mean"
   ]
  },
  {
   "cell_type": "code",
   "execution_count": 2,
   "metadata": {
    "collapsed": true
   },
   "outputs": [],
   "source": [
    "n = 1000\n",
    "μ = 20\n",
    "σ = 10\n",
    "x = np.random.normal(loc=μ, scale=σ, size=n)\n",
    "\n",
    "resampled_means = [np.mean(bootstrap_sample) for bootstrap_sample in \n",
    "                   (np.random.choice(x, size=n, replace=True) for _ in range(n_bootstrap_samples))]"
   ]
  },
  {
   "cell_type": "code",
   "execution_count": 3,
   "metadata": {},
   "outputs": [
    {
     "name": "stdout",
     "output_type": "stream",
     "text": [
      "0.330784957994\n",
      "0.330853701255\n"
     ]
    }
   ],
   "source": [
    "print(np.std(resampled_means))\n",
    "print(np.std(x)/np.sqrt(n))"
   ]
  },
  {
   "cell_type": "markdown",
   "metadata": {},
   "source": [
    "## Proportion"
   ]
  },
  {
   "cell_type": "code",
   "execution_count": 4,
   "metadata": {},
   "outputs": [
    {
     "name": "stdout",
     "output_type": "stream",
     "text": [
      "p_hat 0.55\n"
     ]
    }
   ],
   "source": [
    "n_ok = 550\n",
    "n_tot = 1000\n",
    "\n",
    "is_ok_per_object = np.concatenate((np.ones(n_ok), np.zeros(n_tot-n_ok)))\n",
    "p_hat = sum(is_ok_per_object) / len(is_ok_per_object)\n",
    "print(\"p_hat\", p_hat)"
   ]
  },
  {
   "cell_type": "code",
   "execution_count": 5,
   "metadata": {},
   "outputs": [
    {
     "name": "stdout",
     "output_type": "stream",
     "text": [
      "0.0157269231256\n",
      "0.0212132034356\n"
     ]
    }
   ],
   "source": [
    "resampled_proportions = [sum(bootstrap_sample) / n_tot for bootstrap_sample in \n",
    "                         (np.random.choice(is_ok_per_object, size=n_tot, replace=True) \n",
    "                          for _ in range(n_bootstrap_samples))]\n",
    "print(np.std(resampled_proportions))\n",
    "print(np.sqrt((p_hat * (1 - p_hat)) / n_ok))"
   ]
  },
  {
   "cell_type": "markdown",
   "metadata": {},
   "source": [
    "## Proportion, #2"
   ]
  },
  {
   "cell_type": "code",
   "execution_count": 14,
   "metadata": {
    "collapsed": true
   },
   "outputs": [],
   "source": [
    "from scipy.stats import bernoulli"
   ]
  },
  {
   "cell_type": "code",
   "execution_count": 25,
   "metadata": {
    "collapsed": true
   },
   "outputs": [],
   "source": [
    "n_bootstrap_samples = 10000"
   ]
  },
  {
   "cell_type": "code",
   "execution_count": 26,
   "metadata": {},
   "outputs": [
    {
     "name": "stdout",
     "output_type": "stream",
     "text": [
      "0.544\n"
     ]
    }
   ],
   "source": [
    "\n",
    "p = .55\n",
    "n_tot = 1000\n",
    "n_ok = np.random.binomial(n_tot, p=p)\n",
    "p_hat = n_ok/n_tot\n",
    "print(p_hat)"
   ]
  },
  {
   "cell_type": "code",
   "execution_count": 27,
   "metadata": {},
   "outputs": [],
   "source": [
    "resampled_proportions = [sum(bernoulli.rvs(p=p_hat, size=n_tot))/n_tot\n",
    "                         for _ in range(n_bootstrap_samples)]"
   ]
  },
  {
   "cell_type": "code",
   "execution_count": 28,
   "metadata": {},
   "outputs": [
    {
     "name": "stdout",
     "output_type": "stream",
     "text": [
      "Standard dev; NOT CORRECT:            0.0157607327241\n",
      "Stdev of mean of bootstrap sample: 0.0213547161281\n",
      "Stdev of original sample:          0.0213541565041\n"
     ]
    }
   ],
   "source": [
    "bootstrap_mean = np.mean(resampled_proportions)\n",
    "print(\"Standard dev; NOT CORRECT:           \", np.std(resampled_proportions))\n",
    "print(\"Stdev of mean of bootstrap sample:\", np.sqrt((bootstrap_mean * (1-bootstrap_mean)) / n_ok))\n",
    "print(\"Stdev of original sample:         \", np.sqrt((p_hat * (1 - p_hat)) / n_ok))"
   ]
  },
  {
   "cell_type": "markdown",
   "metadata": {
    "collapsed": true
   },
   "source": [
    "#### CI"
   ]
  },
  {
   "cell_type": "code",
   "execution_count": 29,
   "metadata": {
    "collapsed": true
   },
   "outputs": [],
   "source": [
    "stdev = np.sqrt((p * (1 - p)) / n_ok)"
   ]
  },
  {
   "cell_type": "code",
   "execution_count": 30,
   "metadata": {},
   "outputs": [
    {
     "data": {
      "text/plain": [
       "(0.50219346026390277, 0.58580653973609731)"
      ]
     },
     "execution_count": 30,
     "metadata": {},
     "output_type": "execute_result"
    }
   ],
   "source": [
    "p_hat - stdev * 1.96, p_hat + stdev * 1.96"
   ]
  },
  {
   "cell_type": "code",
   "execution_count": 31,
   "metadata": {},
   "outputs": [
    {
     "data": {
      "text/plain": [
       "0.51200000000000001"
      ]
     },
     "execution_count": 31,
     "metadata": {},
     "output_type": "execute_result"
    }
   ],
   "source": [
    "np.percentile(resampled_proportions, 2.25)"
   ]
  },
  {
   "cell_type": "code",
   "execution_count": 32,
   "metadata": {},
   "outputs": [
    {
     "data": {
      "text/plain": [
       "0.57399999999999995"
      ]
     },
     "execution_count": 32,
     "metadata": {},
     "output_type": "execute_result"
    }
   ],
   "source": [
    "np.percentile(resampled_proportions, 97.5)"
   ]
  }
 ],
 "metadata": {
  "kernelspec": {
   "display_name": "Python 3",
   "language": "python",
   "name": "python3"
  },
  "language_info": {
   "codemirror_mode": {
    "name": "ipython",
    "version": 3
   },
   "file_extension": ".py",
   "mimetype": "text/x-python",
   "name": "python",
   "nbconvert_exporter": "python",
   "pygments_lexer": "ipython3",
   "version": "3.6.1"
  }
 },
 "nbformat": 4,
 "nbformat_minor": 2
}
