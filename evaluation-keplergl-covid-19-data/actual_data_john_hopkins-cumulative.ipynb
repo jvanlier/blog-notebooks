{
 "cells": [
  {
   "cell_type": "markdown",
   "metadata": {},
   "source": [
    "Mapping daily cumulative cases over time using the John Hopkins map data."
   ]
  },
  {
   "cell_type": "code",
   "execution_count": 175,
   "metadata": {},
   "outputs": [],
   "source": [
    "from datetime import datetime, timedelta\n",
    "import json\n",
    "\n",
    "from keplergl import KeplerGl\n",
    "import pandas as pd"
   ]
  },
  {
   "cell_type": "code",
   "execution_count": 3,
   "metadata": {},
   "outputs": [],
   "source": [
    "DATA_URI = \"https://raw.githubusercontent.com/CSSEGISandData/COVID-19/master/csse_covid_19_data/csse_covid_19_time_series/time_series_covid19_confirmed_global.csv\""
   ]
  },
  {
   "cell_type": "code",
   "execution_count": 47,
   "metadata": {},
   "outputs": [
    {
     "name": "stdout",
     "output_type": "stream",
     "text": [
      "--2020-05-02 13:09:59--  https://raw.githubusercontent.com/CSSEGISandData/COVID-19/master/csse_covid_19_data/csse_covid_19_time_series/time_series_covid19_confirmed_global.csv\n",
      "Resolving raw.githubusercontent.com... 151.101.64.133, 151.101.128.133, 151.101.192.133, ...\n",
      "Connecting to raw.githubusercontent.com|151.101.64.133|:443... connected.\n",
      "HTTP request sent, awaiting response... 200 OK\n",
      "Length: 26254 (26K) [text/plain]\n",
      "Saving to: 'time_series_covid19_confirmed_global.csv.1'\n",
      "\n",
      "time_series_covid19 100%[===================>]  25.64K  --.-KB/s    in 0.005s  \n",
      "\n",
      "2020-05-02 13:09:59 (5.15 MB/s) - 'time_series_covid19_confirmed_global.csv.1' saved [88599]\n",
      "\n"
     ]
    }
   ],
   "source": [
    "!wget $DATA_URI"
   ]
  },
  {
   "cell_type": "code",
   "execution_count": 183,
   "metadata": {},
   "outputs": [
    {
     "data": {
      "text/html": [
       "<div>\n",
       "<style scoped>\n",
       "    .dataframe tbody tr th:only-of-type {\n",
       "        vertical-align: middle;\n",
       "    }\n",
       "\n",
       "    .dataframe tbody tr th {\n",
       "        vertical-align: top;\n",
       "    }\n",
       "\n",
       "    .dataframe thead th {\n",
       "        text-align: right;\n",
       "    }\n",
       "</style>\n",
       "<table border=\"1\" class=\"dataframe\">\n",
       "  <thead>\n",
       "    <tr style=\"text-align: right;\">\n",
       "      <th></th>\n",
       "      <th>Province/State</th>\n",
       "      <th>Country/Region</th>\n",
       "      <th>Lat</th>\n",
       "      <th>Long</th>\n",
       "      <th>Date</th>\n",
       "      <th>value</th>\n",
       "      <th>Datetime</th>\n",
       "    </tr>\n",
       "  </thead>\n",
       "  <tbody>\n",
       "    <tr>\n",
       "      <th>0</th>\n",
       "      <td></td>\n",
       "      <td>Afghanistan</td>\n",
       "      <td>33.0000</td>\n",
       "      <td>65.0000</td>\n",
       "      <td>2020-01-22</td>\n",
       "      <td>0</td>\n",
       "      <td>2020-01-22</td>\n",
       "    </tr>\n",
       "    <tr>\n",
       "      <th>1</th>\n",
       "      <td></td>\n",
       "      <td>Albania</td>\n",
       "      <td>41.1533</td>\n",
       "      <td>20.1683</td>\n",
       "      <td>2020-01-22</td>\n",
       "      <td>0</td>\n",
       "      <td>2020-01-22</td>\n",
       "    </tr>\n",
       "    <tr>\n",
       "      <th>2</th>\n",
       "      <td></td>\n",
       "      <td>Algeria</td>\n",
       "      <td>28.0339</td>\n",
       "      <td>1.6596</td>\n",
       "      <td>2020-01-22</td>\n",
       "      <td>0</td>\n",
       "      <td>2020-01-22</td>\n",
       "    </tr>\n",
       "    <tr>\n",
       "      <th>3</th>\n",
       "      <td></td>\n",
       "      <td>Andorra</td>\n",
       "      <td>42.5063</td>\n",
       "      <td>1.5218</td>\n",
       "      <td>2020-01-22</td>\n",
       "      <td>0</td>\n",
       "      <td>2020-01-22</td>\n",
       "    </tr>\n",
       "    <tr>\n",
       "      <th>4</th>\n",
       "      <td></td>\n",
       "      <td>Angola</td>\n",
       "      <td>-11.2027</td>\n",
       "      <td>17.8739</td>\n",
       "      <td>2020-01-22</td>\n",
       "      <td>0</td>\n",
       "      <td>2020-01-22</td>\n",
       "    </tr>\n",
       "  </tbody>\n",
       "</table>\n",
       "</div>"
      ],
      "text/plain": [
       "  Province/State Country/Region      Lat     Long        Date  value  \\\n",
       "0                   Afghanistan  33.0000  65.0000  2020-01-22      0   \n",
       "1                       Albania  41.1533  20.1683  2020-01-22      0   \n",
       "2                       Algeria  28.0339   1.6596  2020-01-22      0   \n",
       "3                       Andorra  42.5063   1.5218  2020-01-22      0   \n",
       "4                        Angola -11.2027  17.8739  2020-01-22      0   \n",
       "\n",
       "    Datetime  \n",
       "0 2020-01-22  \n",
       "1 2020-01-22  \n",
       "2 2020-01-22  \n",
       "3 2020-01-22  \n",
       "4 2020-01-22  "
      ]
     },
     "execution_count": 183,
     "metadata": {},
     "output_type": "execute_result"
    }
   ],
   "source": [
    "df = pd.read_csv(\"time_series_covid19_confirmed_global.csv\")\n",
    "df[\"Province/State\"] = df[\"Province/State\"].fillna(\"\")\n",
    "if df[\"Country/Region\"].isnull().any():\n",
    "    print(\"Found at least 1 NULL Country/Region - to be investigated.\")\n",
    "\n",
    "id_vars = [\"Province/State\", \"Country/Region\", \"Lat\", \"Long\"]\n",
    "date_cols = [c for c in df.columns if c not in id_vars]\n",
    "dfm = df.melt(id_vars, date_cols, \"Date\")\n",
    "# dfm = dfm.rename(columns={\"value\": \"cumulative\"})\n",
    "\n",
    "dfm[\"Datetime\"] = pd.to_datetime(dfm[\"Date\"])\n",
    "# Need String date for sensible display inside Kepler.gl tooltips:\n",
    "dfm[\"Date\"] = dfm[\"Datetime\"].dt.strftime(\"%Y-%m-%d\")  \n",
    "dfm.head()"
   ]
  },
  {
   "cell_type": "code",
   "execution_count": 184,
   "metadata": {},
   "outputs": [
    {
     "data": {
      "text/plain": [
       "<matplotlib.axes._subplots.AxesSubplot at 0x11d110fd0>"
      ]
     },
     "execution_count": 184,
     "metadata": {},
     "output_type": "execute_result"
    },
    {
     "data": {
      "image/png": "[encoded data removed]",
      "text/plain": [
       "<Figure size 432x288 with 1 Axes>"
      ]
     },
     "metadata": {
      "needs_background": "light"
     },
     "output_type": "display_data"
    }
   ],
   "source": [
    "import matplotlib.pyplot as plt\n",
    "%matplotlib inline\n",
    "\n",
    "data_nl = dfm[(dfm[\"Country/Region\"] == \"Netherlands\") & (dfm[\"Province/State\"] == \"\")]\n",
    "data_nl.plot(x=\"Datetime\", y=\"value\")\n",
    "# plt.yscale(\"log\")\n",
    "# plt.xscale(\"log\")"
   ]
  },
  {
   "cell_type": "code",
   "execution_count": 195,
   "metadata": {
    "scrolled": false
   },
   "outputs": [
    {
     "name": "stdout",
     "output_type": "stream",
     "text": [
      "User Guide: https://github.com/keplergl/kepler.gl/blob/master/docs/keplergl-jupyter/user-guide.md\n"
     ]
    },
    {
     "data": {
      "application/vnd.jupyter.widget-view+json": {
       "model_id": "f8987616e0364a6c8c60a9d2bd37a8b0",
       "version_major": 2,
       "version_minor": 0
      },
      "text/plain": [
       "KeplerGl(config={'version': 'v1', 'config': {'visState': {'filters': [{'dataId': 'data', 'id': 'ajbff39ms', 'n…"
      ]
     },
     "metadata": {},
     "output_type": "display_data"
    }
   ],
   "source": [
    "KEPLER_CONF = \"kepler-config-jh-data-cumulative.json\"\n",
    "\n",
    "with open(KEPLER_CONF, \"r\") as fp:\n",
    "    config = json.load(fp)\n",
    "\n",
    "jh_map = KeplerGl(\n",
    "    height=800, \n",
    "    data={\"data\": dfm},\n",
    "    config=config\n",
    ")\n",
    "jh_map\n"
   ]
  },
  {
   "cell_type": "code",
   "execution_count": 194,
   "metadata": {},
   "outputs": [],
   "source": [
    "with open(KEPLER_CONF, \"w\") as fp:\n",
    "    json.dump(jh_map.config, fp)"
   ]
  },
  {
   "cell_type": "markdown",
   "metadata": {},
   "source": [
    "Use this to set a sensible timeRange and edit the config JSON manually:"
   ]
  },
  {
   "cell_type": "code",
   "execution_count": 190,
   "metadata": {},
   "outputs": [],
   "source": [
    "def to_unixtime(timestamp):\n",
    "    unix_timestamp = int(timestamp.strftime(\"%s\")) * 1000\n",
    "    print(f\"{timestamp} --> {unix_timestamp}\")"
   ]
  },
  {
   "cell_type": "code",
   "execution_count": 191,
   "metadata": {},
   "outputs": [
    {
     "name": "stdout",
     "output_type": "stream",
     "text": [
      "2020-03-01 00:00:00 --> 1583017200000\n",
      "2020-03-01 23:59:59 --> 1583103599000\n"
     ]
    }
   ],
   "source": [
    "start = datetime(2020, 3, 1)\n",
    "to_unixtime(start)\n",
    "to_unixtime(start + timedelta(hours=23, minutes=59, seconds=59))"
   ]
  },
  {
   "cell_type": "code",
   "execution_count": 196,
   "metadata": {},
   "outputs": [
    {
     "name": "stdout",
     "output_type": "stream",
     "text": [
      "Map saved to keplergl_map.html!\n"
     ]
    }
   ],
   "source": [
    "jh_map.save_to_html(\n",
    "    data={\"data\": \n",
    "          # Can't serialize pd.Timestamp to JSON, so need to convert explicitly:\n",
    "          dfm.assign(\n",
    "              Datetime=lambda df: df[\"Datetime\"].dt.strftime(\"%Y-%m-%dT%H:%M:%S\")\n",
    "          )\n",
    "         },\n",
    "         # Takes the static config, not the one with possibly recent changes made in the GUI:\n",
    "         config=config)"
   ]
  }
 ],
 "metadata": {
  "kernelspec": {
   "display_name": "Python 3",
   "language": "python",
   "name": "python3"
  },
  "language_info": {
   "codemirror_mode": {
    "name": "ipython",
    "version": 3
   },
   "file_extension": ".py",
   "mimetype": "text/x-python",
   "name": "python",
   "nbconvert_exporter": "python",
   "pygments_lexer": "ipython3",
   "version": "3.8.2"
  }
 },
 "nbformat": 4,
 "nbformat_minor": 4
}
