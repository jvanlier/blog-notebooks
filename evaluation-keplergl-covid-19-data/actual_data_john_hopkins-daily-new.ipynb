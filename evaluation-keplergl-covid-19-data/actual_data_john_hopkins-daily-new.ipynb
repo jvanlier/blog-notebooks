{
 "cells": [
  {
   "cell_type": "markdown",
   "metadata": {},
   "source": [
    "Variant of `actual_data_john_hopkins-cumulative.ipynb`: going to try to show daily new cases here, rather than cumulative.\n",
    "\n",
    "Spoiler: it didn't work. See the very last cell."
   ]
  },
  {
   "cell_type": "code",
   "execution_count": 1,
   "metadata": {},
   "outputs": [],
   "source": [
    "from datetime import datetime, timedelta\n",
    "import json\n",
    "from pathlib import Path\n",
    "\n",
    "from keplergl import KeplerGl\n",
    "import pandas as pd"
   ]
  },
  {
   "cell_type": "code",
   "execution_count": 61,
   "metadata": {},
   "outputs": [
    {
     "data": {
      "text/html": [
       "<div>\n",
       "<style scoped>\n",
       "    .dataframe tbody tr th:only-of-type {\n",
       "        vertical-align: middle;\n",
       "    }\n",
       "\n",
       "    .dataframe tbody tr th {\n",
       "        vertical-align: top;\n",
       "    }\n",
       "\n",
       "    .dataframe thead th {\n",
       "        text-align: right;\n",
       "    }\n",
       "</style>\n",
       "<table border=\"1\" class=\"dataframe\">\n",
       "  <thead>\n",
       "    <tr style=\"text-align: right;\">\n",
       "      <th></th>\n",
       "      <th>Province/State</th>\n",
       "      <th>Country/Region</th>\n",
       "      <th>Lat</th>\n",
       "      <th>Long</th>\n",
       "      <th>Date</th>\n",
       "      <th>cumulative</th>\n",
       "      <th>Datetime</th>\n",
       "    </tr>\n",
       "  </thead>\n",
       "  <tbody>\n",
       "    <tr>\n",
       "      <th>0</th>\n",
       "      <td></td>\n",
       "      <td>Afghanistan</td>\n",
       "      <td>33.0000</td>\n",
       "      <td>65.0000</td>\n",
       "      <td>2020-01-22</td>\n",
       "      <td>0</td>\n",
       "      <td>2020-01-22</td>\n",
       "    </tr>\n",
       "    <tr>\n",
       "      <th>1</th>\n",
       "      <td></td>\n",
       "      <td>Albania</td>\n",
       "      <td>41.1533</td>\n",
       "      <td>20.1683</td>\n",
       "      <td>2020-01-22</td>\n",
       "      <td>0</td>\n",
       "      <td>2020-01-22</td>\n",
       "    </tr>\n",
       "    <tr>\n",
       "      <th>2</th>\n",
       "      <td></td>\n",
       "      <td>Algeria</td>\n",
       "      <td>28.0339</td>\n",
       "      <td>1.6596</td>\n",
       "      <td>2020-01-22</td>\n",
       "      <td>0</td>\n",
       "      <td>2020-01-22</td>\n",
       "    </tr>\n",
       "    <tr>\n",
       "      <th>3</th>\n",
       "      <td></td>\n",
       "      <td>Andorra</td>\n",
       "      <td>42.5063</td>\n",
       "      <td>1.5218</td>\n",
       "      <td>2020-01-22</td>\n",
       "      <td>0</td>\n",
       "      <td>2020-01-22</td>\n",
       "    </tr>\n",
       "    <tr>\n",
       "      <th>4</th>\n",
       "      <td></td>\n",
       "      <td>Angola</td>\n",
       "      <td>-11.2027</td>\n",
       "      <td>17.8739</td>\n",
       "      <td>2020-01-22</td>\n",
       "      <td>0</td>\n",
       "      <td>2020-01-22</td>\n",
       "    </tr>\n",
       "  </tbody>\n",
       "</table>\n",
       "</div>"
      ],
      "text/plain": [
       "  Province/State Country/Region      Lat     Long        Date  cumulative  \\\n",
       "0                   Afghanistan  33.0000  65.0000  2020-01-22           0   \n",
       "1                       Albania  41.1533  20.1683  2020-01-22           0   \n",
       "2                       Algeria  28.0339   1.6596  2020-01-22           0   \n",
       "3                       Andorra  42.5063   1.5218  2020-01-22           0   \n",
       "4                        Angola -11.2027  17.8739  2020-01-22           0   \n",
       "\n",
       "    Datetime  \n",
       "0 2020-01-22  \n",
       "1 2020-01-22  \n",
       "2 2020-01-22  \n",
       "3 2020-01-22  \n",
       "4 2020-01-22  "
      ]
     },
     "execution_count": 61,
     "metadata": {},
     "output_type": "execute_result"
    }
   ],
   "source": [
    "df = pd.read_csv(\"time_series_covid19_confirmed_global.csv\")\n",
    "df[\"Province/State\"] = df[\"Province/State\"].fillna(\"\")\n",
    "if df[\"Country/Region\"].isnull().any():\n",
    "    print(\"Found at least 1 NULL Country/Region - to be investigated.\")\n",
    "\n",
    "id_vars = [\"Province/State\", \"Country/Region\", \"Lat\", \"Long\"]\n",
    "date_cols = [c for c in df.columns if c not in id_vars]\n",
    "dfm = df.melt(id_vars, date_cols, \"Date\")\n",
    "dfm = dfm.rename(columns={\"value\": \"cumulative\"})\n",
    "\n",
    "dfm[\"Datetime\"] = pd.to_datetime(dfm[\"Date\"])\n",
    "# Need String date for sensible display inside Kepler.gl tooltips:\n",
    "dfm[\"Date\"] = dfm[\"Datetime\"].dt.strftime(\"%Y-%m-%d\")  \n",
    "dfm.head()"
   ]
  },
  {
   "cell_type": "markdown",
   "metadata": {},
   "source": [
    "# Calculate daily new cases"
   ]
  },
  {
   "cell_type": "code",
   "execution_count": 62,
   "metadata": {
    "scrolled": true
   },
   "outputs": [
    {
     "data": {
      "text/html": [
       "<div>\n",
       "<style scoped>\n",
       "    .dataframe tbody tr th:only-of-type {\n",
       "        vertical-align: middle;\n",
       "    }\n",
       "\n",
       "    .dataframe tbody tr th {\n",
       "        vertical-align: top;\n",
       "    }\n",
       "\n",
       "    .dataframe thead th {\n",
       "        text-align: right;\n",
       "    }\n",
       "</style>\n",
       "<table border=\"1\" class=\"dataframe\">\n",
       "  <thead>\n",
       "    <tr style=\"text-align: right;\">\n",
       "      <th></th>\n",
       "      <th>Province/State</th>\n",
       "      <th>Country/Region</th>\n",
       "      <th>Lat</th>\n",
       "      <th>Long</th>\n",
       "      <th>Date</th>\n",
       "      <th>cumulative</th>\n",
       "      <th>Datetime</th>\n",
       "      <th>daily_new</th>\n",
       "    </tr>\n",
       "  </thead>\n",
       "  <tbody>\n",
       "    <tr>\n",
       "      <th>0</th>\n",
       "      <td></td>\n",
       "      <td>Afghanistan</td>\n",
       "      <td>33.0</td>\n",
       "      <td>65.0</td>\n",
       "      <td>2020-01-22</td>\n",
       "      <td>0</td>\n",
       "      <td>2020-01-22</td>\n",
       "      <td>0.0</td>\n",
       "    </tr>\n",
       "    <tr>\n",
       "      <th>266</th>\n",
       "      <td></td>\n",
       "      <td>Afghanistan</td>\n",
       "      <td>33.0</td>\n",
       "      <td>65.0</td>\n",
       "      <td>2020-01-23</td>\n",
       "      <td>0</td>\n",
       "      <td>2020-01-23</td>\n",
       "      <td>0.0</td>\n",
       "    </tr>\n",
       "    <tr>\n",
       "      <th>532</th>\n",
       "      <td></td>\n",
       "      <td>Afghanistan</td>\n",
       "      <td>33.0</td>\n",
       "      <td>65.0</td>\n",
       "      <td>2020-01-24</td>\n",
       "      <td>0</td>\n",
       "      <td>2020-01-24</td>\n",
       "      <td>0.0</td>\n",
       "    </tr>\n",
       "    <tr>\n",
       "      <th>798</th>\n",
       "      <td></td>\n",
       "      <td>Afghanistan</td>\n",
       "      <td>33.0</td>\n",
       "      <td>65.0</td>\n",
       "      <td>2020-01-25</td>\n",
       "      <td>0</td>\n",
       "      <td>2020-01-25</td>\n",
       "      <td>0.0</td>\n",
       "    </tr>\n",
       "    <tr>\n",
       "      <th>1064</th>\n",
       "      <td></td>\n",
       "      <td>Afghanistan</td>\n",
       "      <td>33.0</td>\n",
       "      <td>65.0</td>\n",
       "      <td>2020-01-26</td>\n",
       "      <td>0</td>\n",
       "      <td>2020-01-26</td>\n",
       "      <td>0.0</td>\n",
       "    </tr>\n",
       "  </tbody>\n",
       "</table>\n",
       "</div>"
      ],
      "text/plain": [
       "     Province/State Country/Region   Lat  Long        Date  cumulative  \\\n",
       "0                      Afghanistan  33.0  65.0  2020-01-22           0   \n",
       "266                    Afghanistan  33.0  65.0  2020-01-23           0   \n",
       "532                    Afghanistan  33.0  65.0  2020-01-24           0   \n",
       "798                    Afghanistan  33.0  65.0  2020-01-25           0   \n",
       "1064                   Afghanistan  33.0  65.0  2020-01-26           0   \n",
       "\n",
       "       Datetime  daily_new  \n",
       "0    2020-01-22        0.0  \n",
       "266  2020-01-23        0.0  \n",
       "532  2020-01-24        0.0  \n",
       "798  2020-01-25        0.0  \n",
       "1064 2020-01-26        0.0  "
      ]
     },
     "execution_count": 62,
     "metadata": {},
     "output_type": "execute_result"
    }
   ],
   "source": [
    "dfm = dfm.sort_values(by=[\"Country/Region\", \"Province/State\", \"Datetime\"])\n",
    "dfm[\"daily_new\"] = dfm[\"cumulative\"] - dfm[\"cumulative\"].shift(1)\n",
    "dfm[\"Prev_Province/State\"] = dfm[\"Province/State\"].shift(1)\n",
    "dfm[\"Prev_Country/Region\"] = dfm[\"Country/Region\"].shift(1)\n",
    "# The first row of every group was erroneously compared to the previous group, set to 0:\n",
    "dfm.loc[(dfm[\"Country/Region\"] != dfm[\"Prev_Country/Region\"]) |\n",
    "        (dfm[\"Province/State\"] != dfm[\"Prev_Province/State\"]), \"daily_new\"] = 0\n",
    "dfm = dfm.drop([\"Prev_Province/State\", \"Prev_Country/Region\"], axis=1)\n",
    "\n",
    "dfm.head(5)"
   ]
  },
  {
   "cell_type": "markdown",
   "metadata": {},
   "source": [
    "### Check data quality"
   ]
  },
  {
   "cell_type": "code",
   "execution_count": 46,
   "metadata": {},
   "outputs": [],
   "source": [
    "dfm_verify = dfm.groupby([\"Province/State\", \"Country/Region\"])[[\"cumulative\", \"daily_new\"]].agg({\"cumulative\": \"max\", \"daily_new\": \"sum\"})"
   ]
  },
  {
   "cell_type": "code",
   "execution_count": 53,
   "metadata": {},
   "outputs": [
    {
     "name": "stdout",
     "output_type": "stream",
     "text": [
      "266 34\n"
     ]
    },
    {
     "data": {
      "text/html": [
       "<div>\n",
       "<style scoped>\n",
       "    .dataframe tbody tr th:only-of-type {\n",
       "        vertical-align: middle;\n",
       "    }\n",
       "\n",
       "    .dataframe tbody tr th {\n",
       "        vertical-align: top;\n",
       "    }\n",
       "\n",
       "    .dataframe thead th {\n",
       "        text-align: right;\n",
       "    }\n",
       "</style>\n",
       "<table border=\"1\" class=\"dataframe\">\n",
       "  <thead>\n",
       "    <tr style=\"text-align: right;\">\n",
       "      <th></th>\n",
       "      <th></th>\n",
       "      <th>cumulative</th>\n",
       "      <th>daily_new</th>\n",
       "    </tr>\n",
       "    <tr>\n",
       "      <th>Province/State</th>\n",
       "      <th>Country/Region</th>\n",
       "      <th></th>\n",
       "      <th></th>\n",
       "    </tr>\n",
       "  </thead>\n",
       "  <tbody>\n",
       "    <tr>\n",
       "      <th rowspan=\"5\" valign=\"top\"></th>\n",
       "      <th>France</th>\n",
       "      <td>167605</td>\n",
       "      <td>165764.0</td>\n",
       "    </tr>\n",
       "    <tr>\n",
       "      <th>Japan</th>\n",
       "      <td>14305</td>\n",
       "      <td>14303.0</td>\n",
       "    </tr>\n",
       "    <tr>\n",
       "      <th>Korea, South</th>\n",
       "      <td>10780</td>\n",
       "      <td>10779.0</td>\n",
       "    </tr>\n",
       "    <tr>\n",
       "      <th>Lithuania</th>\n",
       "      <td>1449</td>\n",
       "      <td>1399.0</td>\n",
       "    </tr>\n",
       "    <tr>\n",
       "      <th>Mauritius</th>\n",
       "      <td>334</td>\n",
       "      <td>332.0</td>\n",
       "    </tr>\n",
       "  </tbody>\n",
       "</table>\n",
       "</div>"
      ],
      "text/plain": [
       "                               cumulative  daily_new\n",
       "Province/State Country/Region                       \n",
       "               France              167605   165764.0\n",
       "               Japan                14305    14303.0\n",
       "               Korea, South         10780    10779.0\n",
       "               Lithuania             1449     1399.0\n",
       "               Mauritius              334      332.0"
      ]
     },
     "execution_count": 53,
     "metadata": {},
     "output_type": "execute_result"
    }
   ],
   "source": [
    "dfm_verify_diffs = dfm_verify[dfm_verify[\"cumulative\"] != dfm_verify[\"daily_new\"]]\n",
    "print(len(dfm_verify), len(dfm_verify_diffs))\n",
    "dfm_verify_diffs.head()"
   ]
  },
  {
   "cell_type": "markdown",
   "metadata": {},
   "source": [
    "Interesting ... could these be count corrections?"
   ]
  },
  {
   "cell_type": "code",
   "execution_count": 54,
   "metadata": {},
   "outputs": [],
   "source": [
    "dfm_verify[\"diff\"] = 100 * (dfm_verify[\"daily_new\"] - dfm_verify[\"cumulative\"]) / dfm_verify[\"cumulative\"]"
   ]
  },
  {
   "cell_type": "code",
   "execution_count": 57,
   "metadata": {},
   "outputs": [
    {
     "data": {
      "text/plain": [
       "<matplotlib.axes._subplots.AxesSubplot at 0x12253b3d0>"
      ]
     },
     "execution_count": 57,
     "metadata": {},
     "output_type": "execute_result"
    },
    {
     "data": {
      "image/png": "[encoded data removed]",
      "text/plain": [
       "<Figure size 432x288 with 1 Axes>"
      ]
     },
     "metadata": {
      "needs_background": "light"
     },
     "output_type": "display_data"
    }
   ],
   "source": [
    "dfm_verify[\"diff\"].hist(bins=25, log=True)"
   ]
  },
  {
   "cell_type": "markdown",
   "metadata": {},
   "source": [
    "Most are small, negligible differences. one stands out. Let's see."
   ]
  },
  {
   "cell_type": "code",
   "execution_count": 58,
   "metadata": {},
   "outputs": [
    {
     "data": {
      "text/html": [
       "<div>\n",
       "<style scoped>\n",
       "    .dataframe tbody tr th:only-of-type {\n",
       "        vertical-align: middle;\n",
       "    }\n",
       "\n",
       "    .dataframe tbody tr th {\n",
       "        vertical-align: top;\n",
       "    }\n",
       "\n",
       "    .dataframe thead th {\n",
       "        text-align: right;\n",
       "    }\n",
       "</style>\n",
       "<table border=\"1\" class=\"dataframe\">\n",
       "  <thead>\n",
       "    <tr style=\"text-align: right;\">\n",
       "      <th></th>\n",
       "      <th></th>\n",
       "      <th>cumulative</th>\n",
       "      <th>daily_new</th>\n",
       "      <th>diff</th>\n",
       "    </tr>\n",
       "    <tr>\n",
       "      <th>Province/State</th>\n",
       "      <th>Country/Region</th>\n",
       "      <th></th>\n",
       "      <th></th>\n",
       "      <th></th>\n",
       "    </tr>\n",
       "  </thead>\n",
       "  <tbody>\n",
       "    <tr>\n",
       "      <th></th>\n",
       "      <th>West Bank and Gaza</th>\n",
       "      <td>484</td>\n",
       "      <td>353.0</td>\n",
       "      <td>-27.066116</td>\n",
       "    </tr>\n",
       "  </tbody>\n",
       "</table>\n",
       "</div>"
      ],
      "text/plain": [
       "                                   cumulative  daily_new       diff\n",
       "Province/State Country/Region                                      \n",
       "               West Bank and Gaza         484      353.0 -27.066116"
      ]
     },
     "execution_count": 58,
     "metadata": {},
     "output_type": "execute_result"
    }
   ],
   "source": [
    "dfm_verify[dfm_verify[\"diff\"] < -25]"
   ]
  },
  {
   "cell_type": "markdown",
   "metadata": {},
   "source": [
    "What happened here?"
   ]
  },
  {
   "cell_type": "code",
   "execution_count": 60,
   "metadata": {},
   "outputs": [
    {
     "data": {
      "text/plain": [
       "<matplotlib.axes._subplots.AxesSubplot at 0x1227151c0>"
      ]
     },
     "execution_count": 60,
     "metadata": {},
     "output_type": "execute_result"
    },
    {
     "data": {
      "image/png": "[encoded data removed]",
      "text/plain": [
       "<Figure size 432x288 with 1 Axes>"
      ]
     },
     "metadata": {
      "needs_background": "light"
     },
     "output_type": "display_data"
    }
   ],
   "source": [
    "dfm[dfm[\"Country/Region\"] == \"West Bank and Gaza\"].plot(x=\"Datetime\", y=\"cumulative\")"
   ]
  },
  {
   "cell_type": "markdown",
   "metadata": {},
   "source": [
    "Hmm, ok, data quality issue or they corrected the numbers. Ignoring this for now. Moving on..."
   ]
  },
  {
   "cell_type": "code",
   "execution_count": 71,
   "metadata": {},
   "outputs": [
    {
     "data": {
      "text/plain": [
       "<matplotlib.axes._subplots.AxesSubplot at 0x123d7a280>"
      ]
     },
     "execution_count": 71,
     "metadata": {},
     "output_type": "execute_result"
    },
    {
     "data": {
      "image/png": "[encoded data removed]",
      "text/plain": [
       "<Figure size 432x288 with 1 Axes>"
      ]
     },
     "metadata": {
      "needs_background": "light"
     },
     "output_type": "display_data"
    },
    {
     "data": {
      "image/png": "[encoded data removed]",
      "text/plain": [
       "<Figure size 1440x288 with 1 Axes>"
      ]
     },
     "metadata": {
      "needs_background": "light"
     },
     "output_type": "display_data"
    }
   ],
   "source": [
    "import matplotlib.pyplot as plt\n",
    "%matplotlib inline\n",
    "\n",
    "data_nl = dfm[(dfm[\"Country/Region\"] == \"Netherlands\") & (dfm[\"Province/State\"] == \"\")]\n",
    "data_nl.plot(x=\"Datetime\", y=\"cumulative\")\n",
    "data_nl.plot(x=\"Date\", y=\"daily_new\", kind=\"bar\", figsize=(20, 4))\n",
    "\n",
    "# plt.yscale(\"log\")\n",
    "# plt.xscale(\"log\")"
   ]
  },
  {
   "cell_type": "markdown",
   "metadata": {},
   "source": [
    "This looks legit."
   ]
  },
  {
   "cell_type": "code",
   "execution_count": 76,
   "metadata": {
    "scrolled": false
   },
   "outputs": [
    {
     "name": "stdout",
     "output_type": "stream",
     "text": [
      "User Guide: https://github.com/keplergl/kepler.gl/blob/master/docs/keplergl-jupyter/user-guide.md\n"
     ]
    },
    {
     "data": {
      "application/vnd.jupyter.widget-view+json": {
       "model_id": "29caaa522b6e4b36aa1693e5870540d5",
       "version_major": 2,
       "version_minor": 0
      },
      "text/plain": [
       "KeplerGl(data={'data':       Province/State Country/Region   Lat  Long        Date  cumulative  \\\n",
       "0           …"
      ]
     },
     "metadata": {},
     "output_type": "display_data"
    }
   ],
   "source": [
    "jh_map = KeplerGl(\n",
    "    height=800, \n",
    "    data={\"data\": dfm},\n",
    ")\n",
    "jh_map"
   ]
  },
  {
   "cell_type": "markdown",
   "metadata": {},
   "source": [
    "# This doesn't work!\n",
    "Too bad.\n",
    "\n",
    "- Circles won't disappear if there are 0 new cases. They remain quite large. Even if the radius starts at 0. That makes no sense.\n",
    "- I wanted to be able to select a larger time range in order to actually use the timeRange as a slider (i.e. make it clickable for drag & drop). Sadly, there is no way to tell Kepler to sum over the data in the timeRange. It just draws circles on top of each other. This could be quite nice with a low opacity/alpha if we have invidual coordinates per case, but since they're all in the centroid of the country, it's no good. I could put some random jitter on each point, but that has the potential of showing many Covid-19 cases in areas that are not really affected. (and the jitter should be large for large countries, small for small countries, definitely within the country borders, not in the sea, etc...)\n",
    "\n",
    "This proves the point of my blog post: Kepler.gl is suitable for unaggregated data (individual cases/uber rides/whatever), but not *really* for aggregated data."
   ]
  }
 ],
 "metadata": {
  "kernelspec": {
   "display_name": "Python 3",
   "language": "python",
   "name": "python3"
  },
  "language_info": {
   "codemirror_mode": {
    "name": "ipython",
    "version": 3
   },
   "file_extension": ".py",
   "mimetype": "text/x-python",
   "name": "python",
   "nbconvert_exporter": "python",
   "pygments_lexer": "ipython3",
   "version": "3.8.2"
  }
 },
 "nbformat": 4,
 "nbformat_minor": 4
}
