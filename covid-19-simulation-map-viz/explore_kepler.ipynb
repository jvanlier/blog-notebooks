{
 "cells": [
  {
   "cell_type": "markdown",
   "metadata": {},
   "source": [
    "Check KeplerGL"
   ]
  },
  {
   "cell_type": "code",
   "execution_count": 14,
   "metadata": {},
   "outputs": [],
   "source": [
    "from pathlib import Path\n",
    "import random\n",
    "\n",
    "from keplergl import KeplerGl\n",
    "import numpy as np\n",
    "import pandas as pd\n",
    "import geopandas as gpd\n",
    "import matplotlib.pyplot as plt\n",
    "from numpy.random import poisson\n",
    "%matplotlib inline"
   ]
  },
  {
   "cell_type": "markdown",
   "metadata": {},
   "source": [
    "### Population data:"
   ]
  },
  {
   "cell_type": "code",
   "execution_count": 4,
   "metadata": {},
   "outputs": [],
   "source": [
    "dfp = (\n",
    "    gpd\n",
    "    .read_file(\"../covid-19-simulation/data/transformed/population.shp\")\n",
    "    .assign(centroid=lambda df: df[\"geometry\"].map(lambda x: x.centroid))\n",
    ")"
   ]
  },
  {
   "cell_type": "code",
   "execution_count": 5,
   "metadata": {},
   "outputs": [
    {
     "data": {
      "text/html": [
       "<div>\n",
       "<style scoped>\n",
       "    .dataframe tbody tr th:only-of-type {\n",
       "        vertical-align: middle;\n",
       "    }\n",
       "\n",
       "    .dataframe tbody tr th {\n",
       "        vertical-align: top;\n",
       "    }\n",
       "\n",
       "    .dataframe thead th {\n",
       "        text-align: right;\n",
       "    }\n",
       "</style>\n",
       "<table border=\"1\" class=\"dataframe\">\n",
       "  <thead>\n",
       "    <tr style=\"text-align: right;\">\n",
       "      <th></th>\n",
       "      <th>hood</th>\n",
       "      <th>muni</th>\n",
       "      <th>pop</th>\n",
       "      <th>geometry</th>\n",
       "      <th>centroid</th>\n",
       "    </tr>\n",
       "  </thead>\n",
       "  <tbody>\n",
       "    <tr>\n",
       "      <th>0</th>\n",
       "      <td>Wijk 02 Belgisch Park</td>\n",
       "      <td>'s-Gravenhage</td>\n",
       "      <td>7955</td>\n",
       "      <td>POLYGON ((4.28747 52.11845, 4.28772 52.11856, ...</td>\n",
       "      <td>POINT (4.29201 52.11208)</td>\n",
       "    </tr>\n",
       "    <tr>\n",
       "      <th>1</th>\n",
       "      <td>Wijk 03 Westbroekpark en Duttendel</td>\n",
       "      <td>'s-Gravenhage</td>\n",
       "      <td>1855</td>\n",
       "      <td>POLYGON ((4.30000 52.09899, 4.29965 52.09913, ...</td>\n",
       "      <td>POINT (4.30321 52.10403)</td>\n",
       "    </tr>\n",
       "    <tr>\n",
       "      <th>2</th>\n",
       "      <td>Wijk 04 Benoordenhout</td>\n",
       "      <td>'s-Gravenhage</td>\n",
       "      <td>13320</td>\n",
       "      <td>POLYGON ((4.32739 52.09566, 4.32748 52.09557, ...</td>\n",
       "      <td>POINT (4.32134 52.09741)</td>\n",
       "    </tr>\n",
       "    <tr>\n",
       "      <th>3</th>\n",
       "      <td>Wijk 05 Archipelbuurt</td>\n",
       "      <td>'s-Gravenhage</td>\n",
       "      <td>5720</td>\n",
       "      <td>POLYGON ((4.29996 52.09864, 4.30039 52.09855, ...</td>\n",
       "      <td>POINT (4.30271 52.09184)</td>\n",
       "    </tr>\n",
       "    <tr>\n",
       "      <th>4</th>\n",
       "      <td>Wijk 06 Van Stolkpark en Scheveningse Bosjes</td>\n",
       "      <td>'s-Gravenhage</td>\n",
       "      <td>775</td>\n",
       "      <td>POLYGON ((4.28612 52.10404, 4.28637 52.10415, ...</td>\n",
       "      <td>POINT (4.29148 52.09752)</td>\n",
       "    </tr>\n",
       "  </tbody>\n",
       "</table>\n",
       "</div>"
      ],
      "text/plain": [
       "                                           hood           muni    pop  \\\n",
       "0                         Wijk 02 Belgisch Park  's-Gravenhage   7955   \n",
       "1            Wijk 03 Westbroekpark en Duttendel  's-Gravenhage   1855   \n",
       "2                         Wijk 04 Benoordenhout  's-Gravenhage  13320   \n",
       "3                         Wijk 05 Archipelbuurt  's-Gravenhage   5720   \n",
       "4  Wijk 06 Van Stolkpark en Scheveningse Bosjes  's-Gravenhage    775   \n",
       "\n",
       "                                            geometry                  centroid  \n",
       "0  POLYGON ((4.28747 52.11845, 4.28772 52.11856, ...  POINT (4.29201 52.11208)  \n",
       "1  POLYGON ((4.30000 52.09899, 4.29965 52.09913, ...  POINT (4.30321 52.10403)  \n",
       "2  POLYGON ((4.32739 52.09566, 4.32748 52.09557, ...  POINT (4.32134 52.09741)  \n",
       "3  POLYGON ((4.29996 52.09864, 4.30039 52.09855, ...  POINT (4.30271 52.09184)  \n",
       "4  POLYGON ((4.28612 52.10404, 4.28637 52.10415, ...  POINT (4.29148 52.09752)  "
      ]
     },
     "execution_count": 5,
     "metadata": {},
     "output_type": "execute_result"
    }
   ],
   "source": [
    "dfp.head()"
   ]
  },
  {
   "cell_type": "markdown",
   "metadata": {},
   "source": [
    "## Try kepler"
   ]
  },
  {
   "cell_type": "code",
   "execution_count": 6,
   "metadata": {},
   "outputs": [],
   "source": [
    "dfpk = (dfp\n",
    "        .assign(lon=lambda df: df.centroid.map(lambda c: c.x))\n",
    "        .assign(lat=lambda df: df.centroid.map(lambda c: c.y))\n",
    "        .assign(inf=0)\n",
    "        .assign(inf_perc=0)\n",
    "        [[\"hood\", \"lat\", \"lon\", \"pop\", \"inf\", \"inf_perc\",]]\n",
    "       ).reset_index(drop=True)"
   ]
  },
  {
   "cell_type": "code",
   "execution_count": 7,
   "metadata": {},
   "outputs": [],
   "source": [
    "MAP_COLS = [\"lat\", \"lon\", \"pop\", \"inf\", \"inf_perc\"]"
   ]
  },
  {
   "cell_type": "code",
   "execution_count": 8,
   "metadata": {},
   "outputs": [],
   "source": [
    "config = {\n",
    "  \"version\": \"v1\",\n",
    "  \"config\": {\n",
    "    \"visState\": {\n",
    "      \"filters\": [],\n",
    "      \"layers\": [\n",
    "        {\n",
    "          \"id\": \"mzprg2\",\n",
    "          \"type\": \"hexagon\",\n",
    "          \"config\": {\n",
    "            \"dataId\": \"infections\",\n",
    "            \"label\": \"Point\",\n",
    "            \"color\": [\n",
    "              119,\n",
    "              110,\n",
    "              87\n",
    "            ],\n",
    "            \"columns\": {\n",
    "              \"lat\": \"lat\",\n",
    "              \"lng\": \"lon\"\n",
    "            },\n",
    "            \"isVisible\": True,\n",
    "            \"visConfig\": {\n",
    "              \"opacity\": 1,\n",
    "              \"worldUnitSize\": 5,\n",
    "              \"resolution\": 8,\n",
    "              \"colorRange\": {\n",
    "                \"name\": \"Purple Blue Yellow\",\n",
    "                \"type\": \"sequential\",\n",
    "                \"category\": \"Uber\",\n",
    "                \"colors\": [\n",
    "                  \"#2B1E3E\",\n",
    "                  \"#383C65\",\n",
    "                  \"#3E5F7E\",\n",
    "                  \"#49838A\",\n",
    "                  \"#5EA28D\",\n",
    "                  \"#82BB92\",\n",
    "                  \"#AECEA1\",\n",
    "                  \"#D6DEBF\"\n",
    "                ],\n",
    "                \"reversed\": False\n",
    "              },\n",
    "              \"coverage\": 1,\n",
    "              \"sizeRange\": [\n",
    "                0,\n",
    "                100\n",
    "              ],\n",
    "              \"percentile\": [\n",
    "                0,\n",
    "                99.94\n",
    "              ],\n",
    "              \"elevationPercentile\": [\n",
    "                0,\n",
    "                100\n",
    "              ],\n",
    "              \"elevationScale\": 20,\n",
    "              \"hi-precision\": False,\n",
    "              \"colorAggregation\": \"sum\",\n",
    "              \"sizeAggregation\": \"sum\",\n",
    "              \"enable3d\": True\n",
    "            }\n",
    "          },\n",
    "          \"visualChannels\": {\n",
    "            \"colorField\": {\n",
    "              \"name\": \"inf\",\n",
    "              \"type\": \"integer\"\n",
    "            },\n",
    "            \"colorScale\": \"quantize\",\n",
    "            \"sizeField\": {\n",
    "              \"name\": \"inf\",\n",
    "              \"type\": \"integer\"\n",
    "            },\n",
    "            \"sizeScale\": \"linear\"\n",
    "          }\n",
    "        }\n",
    "      ],\n",
    "      \"interactionConfig\": {\n",
    "        \"tooltip\": {\n",
    "          \"fieldsToShow\": {\n",
    "            \"infections\": [\n",
    "              \"inf_ratio\"\n",
    "            ]\n",
    "          },\n",
    "          \"enabled\": True\n",
    "        },\n",
    "        \"brush\": {\n",
    "          \"size\": 0.5,\n",
    "          \"enabled\": False\n",
    "        }\n",
    "      },\n",
    "      \"layerBlending\": \"normal\",\n",
    "      \"splitMaps\": []\n",
    "    },\n",
    "    \"mapState\": {\n",
    "      \"bearing\": -0.6067415730337057,\n",
    "      'pitch': 37.374216241015446,\n",
    "      \"dragRotate\": True,\n",
    "      'latitude': 52.15502, \n",
    "      'longitude': 5.41301,\n",
    "      \"zoom\": 7,\n",
    "      \"isSplit\": False\n",
    "    },\n",
    "    \"mapStyle\": {\n",
    "      \"styleType\": \"muted_night\",\n",
    "      \"topLayerGroups\": {},\n",
    "      \"visibleLayerGroups\": {\n",
    "        \"label\": False,\n",
    "        \"road\": False,\n",
    "        \"border\": False,\n",
    "        \"building\": True,\n",
    "        \"water\": True,\n",
    "        \"land\": True\n",
    "      }\n",
    "    }\n",
    "  }\n",
    "}"
   ]
  },
  {
   "cell_type": "code",
   "execution_count": 9,
   "metadata": {
    "scrolled": true
   },
   "outputs": [
    {
     "name": "stdout",
     "output_type": "stream",
     "text": [
      "User Guide: https://github.com/keplergl/kepler.gl/blob/master/docs/keplergl-jupyter/user-guide.md\n"
     ]
    }
   ],
   "source": [
    "nl_map = KeplerGl(height=800, data={\"infections\": dfpk[MAP_COLS]},)\n",
    "#                   config=config)"
   ]
  },
  {
   "cell_type": "code",
   "execution_count": 10,
   "metadata": {
    "scrolled": false
   },
   "outputs": [
    {
     "data": {
      "application/vnd.jupyter.widget-view+json": {
       "model_id": "951b233db43b47e1b82f78ef4dcee4f3",
       "version_major": 2,
       "version_minor": 0
      },
      "text/plain": [
       "KeplerGl(data={'infections':             lat       lon    pop  inf  inf_perc\n",
       "0     52.112078  4.292010   7955 …"
      ]
     },
     "metadata": {},
     "output_type": "display_data"
    }
   ],
   "source": [
    "nl_map"
   ]
  },
  {
   "cell_type": "code",
   "execution_count": 20,
   "metadata": {},
   "outputs": [
    {
     "data": {
      "text/plain": [
       "{'version': 'v1',\n",
       " 'config': {'visState': {'filters': [],\n",
       "   'layers': [{'id': '6qyp89o',\n",
       "     'type': 'point',\n",
       "     'config': {'dataId': 'infections',\n",
       "      'label': 'Point',\n",
       "      'color': [18, 147, 154],\n",
       "      'columns': {'lat': 'lat', 'lng': 'lon', 'altitude': None},\n",
       "      'isVisible': True,\n",
       "      'visConfig': {'radius': 10,\n",
       "       'fixedRadius': False,\n",
       "       'opacity': 0.8,\n",
       "       'outline': False,\n",
       "       'thickness': 2,\n",
       "       'strokeColor': None,\n",
       "       'colorRange': {'name': 'Global Warming',\n",
       "        'type': 'sequential',\n",
       "        'category': 'Uber',\n",
       "        'colors': ['#5A1846',\n",
       "         '#900C3F',\n",
       "         '#C70039',\n",
       "         '#E3611C',\n",
       "         '#F1920E',\n",
       "         '#FFC300']},\n",
       "       'strokeColorRange': {'name': 'Global Warming',\n",
       "        'type': 'sequential',\n",
       "        'category': 'Uber',\n",
       "        'colors': ['#5A1846',\n",
       "         '#900C3F',\n",
       "         '#C70039',\n",
       "         '#E3611C',\n",
       "         '#F1920E',\n",
       "         '#FFC300']},\n",
       "       'radiusRange': [0, 50],\n",
       "       'filled': True},\n",
       "      'textLabel': [{'field': None,\n",
       "        'color': [255, 255, 255],\n",
       "        'size': 18,\n",
       "        'offset': [0, 0],\n",
       "        'anchor': 'start',\n",
       "        'alignment': 'center'}]},\n",
       "     'visualChannels': {'colorField': None,\n",
       "      'colorScale': 'quantile',\n",
       "      'strokeColorField': None,\n",
       "      'strokeColorScale': 'quantile',\n",
       "      'sizeField': None,\n",
       "      'sizeScale': 'linear'}}],\n",
       "   'interactionConfig': {'tooltip': {'fieldsToShow': {'infections': ['pop',\n",
       "       'inf',\n",
       "       'inf_perc']},\n",
       "     'enabled': True},\n",
       "    'brush': {'size': 0.5, 'enabled': False}},\n",
       "   'layerBlending': 'normal',\n",
       "   'splitMaps': [],\n",
       "   'animationConfig': {'currentTime': None, 'speed': 1}},\n",
       "  'mapState': {'bearing': 0,\n",
       "   'dragRotate': False,\n",
       "   'latitude': 51.77819974960014,\n",
       "   'longitude': 5.630199002869627,\n",
       "   'pitch': 0,\n",
       "   'zoom': 6.889368568465491,\n",
       "   'isSplit': False},\n",
       "  'mapStyle': {'styleType': 'dark',\n",
       "   'topLayerGroups': {},\n",
       "   'visibleLayerGroups': {'label': True,\n",
       "    'road': True,\n",
       "    'border': False,\n",
       "    'building': True,\n",
       "    'water': True,\n",
       "    'land': True,\n",
       "    '3d building': False},\n",
       "   'threeDBuildingColor': [9.665468314072013,\n",
       "    17.18305478057247,\n",
       "    31.1442867897876],\n",
       "   'mapStyles': {}}}}"
      ]
     },
     "execution_count": 20,
     "metadata": {},
     "output_type": "execute_result"
    }
   ],
   "source": [
    "nl_map.config"
   ]
  },
  {
   "cell_type": "code",
   "execution_count": 16,
   "metadata": {},
   "outputs": [],
   "source": [
    "# RESET:\n",
    "nl_map.add_data(dfpk[MAP_COLS], name=\"infections\")"
   ]
  },
  {
   "cell_type": "code",
   "execution_count": 18,
   "metadata": {},
   "outputs": [],
   "source": [
    "from time import sleep"
   ]
  },
  {
   "cell_type": "code",
   "execution_count": 19,
   "metadata": {},
   "outputs": [],
   "source": [
    "dfpk_inf = dfpk.copy()\n",
    "k = 100\n",
    "n = len(dfpk)\n",
    "\n",
    "for _ in range(50):\n",
    "    rnd_idxes = random.sample(range(0, n - 1), k=k)\n",
    "\n",
    "    rnd = dfpk_inf.iloc[rnd_idxes].assign(inf=lambda df: df[\"inf\"] + poisson(lam=300, size=k))\n",
    "    other = dfpk_inf.iloc[list(set(dfpk_inf.index) - set(rnd_idxes))]\n",
    "    \n",
    "    dfpk_inf = pd.concat((\n",
    "        rnd,\n",
    "        other\n",
    "    )).sort_values(by=[\"lon\", \"lat\"])\n",
    "    \n",
    "    dfpk_inf[\"inf_perc\"] = (dfpk_inf[\"inf\"] / dfpk_inf[\"pop\"] * 100).clip(0, 100).round(0)\n",
    "    \n",
    "    nl_map.add_data(dfpk_inf[MAP_COLS], name=\"infections\")\n",
    "    sleep(.1)"
   ]
  },
  {
   "cell_type": "code",
   "execution_count": 21,
   "metadata": {},
   "outputs": [
    {
     "data": {
      "text/plain": [
       "<matplotlib.axes._subplots.AxesSubplot at 0x1236a7610>"
      ]
     },
     "execution_count": 21,
     "metadata": {},
     "output_type": "execute_result"
    },
    {
     "data": {
      "image/png": "[encoded data removed]",
      "text/plain": [
       "<Figure size 432x288 with 1 Axes>"
      ]
     },
     "metadata": {
      "needs_background": "light"
     },
     "output_type": "display_data"
    }
   ],
   "source": [
    "dfpk_inf[\"inf\"].hist(bins=100)"
   ]
  },
  {
   "cell_type": "code",
   "execution_count": 22,
   "metadata": {
    "scrolled": true
   },
   "outputs": [
    {
     "data": {
      "text/plain": [
       "<matplotlib.axes._subplots.AxesSubplot at 0x122c4c6a0>"
      ]
     },
     "execution_count": 22,
     "metadata": {},
     "output_type": "execute_result"
    },
    {
     "data": {
      "image/png": "[encoded data removed]",
      "text/plain": [
       "<Figure size 432x288 with 1 Axes>"
      ]
     },
     "metadata": {
      "needs_background": "light"
     },
     "output_type": "display_data"
    }
   ],
   "source": [
    "dfpk_inf[\"inf_perc\"].hist(bins=100)"
   ]
  },
  {
   "cell_type": "code",
   "execution_count": 23,
   "metadata": {
    "scrolled": true
   },
   "outputs": [
    {
     "data": {
      "text/plain": [
       "0.0      483\n",
       "100.0    352\n",
       "5.0      116\n",
       "3.0      113\n",
       "7.0      103\n",
       "        ... \n",
       "97.0       2\n",
       "87.0       2\n",
       "90.0       1\n",
       "81.0       1\n",
       "69.0       1\n",
       "Name: inf_perc, Length: 100, dtype: int64"
      ]
     },
     "execution_count": 23,
     "metadata": {},
     "output_type": "execute_result"
    }
   ],
   "source": [
    "dfpk_inf[\"inf_perc\"].value_counts()"
   ]
  },
  {
   "cell_type": "code",
   "execution_count": null,
   "metadata": {},
   "outputs": [],
   "source": []
  }
 ],
 "metadata": {
  "kernelspec": {
   "display_name": "Python 3",
   "language": "python",
   "name": "python3"
  },
  "language_info": {
   "codemirror_mode": {
    "name": "ipython",
    "version": 3
   },
   "file_extension": ".py",
   "mimetype": "text/x-python",
   "name": "python",
   "nbconvert_exporter": "python",
   "pygments_lexer": "ipython3",
   "version": "3.8.2"
  }
 },
 "nbformat": 4,
 "nbformat_minor": 4
}
